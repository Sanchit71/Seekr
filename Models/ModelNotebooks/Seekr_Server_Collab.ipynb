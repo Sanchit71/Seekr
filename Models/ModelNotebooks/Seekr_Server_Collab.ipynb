{
  "nbformat": 4,
  "nbformat_minor": 0,
  "metadata": {
    "colab": {
      "provenance": []
    },
    "kernelspec": {
      "name": "python3",
      "display_name": "Python 3"
    },
    "language_info": {
      "name": "python"
    }
  },
  "cells": [
    {
      "cell_type": "markdown",
      "source": [
        "# TO be run in COLAB"
      ],
      "metadata": {
        "id": "MAZqgy-Jar7V"
      }
    },
    {
      "cell_type": "code",
      "source": [
        "!pip install yt_dlp flask-ngrok flask_cors git+https://github.com/openai/CLIP.git"
      ],
      "metadata": {
        "id": "ibDPZwSSJgV9"
      },
      "execution_count": null,
      "outputs": []
    },
    {
      "cell_type": "code",
      "execution_count": null,
      "metadata": {
        "colab": {
          "base_uri": "https://localhost:8080/",
          "height": 389
        },
        "id": "5YifvuFRJQjc",
        "outputId": "98b33f8a-fd19-4b98-f723-b9584d8c9df9"
      },
      "outputs": [
        {
          "output_type": "error",
          "ename": "ModuleNotFoundError",
          "evalue": "ignored",
          "traceback": [
            "\u001b[0;31m---------------------------------------------------------------------------\u001b[0m",
            "\u001b[0;31mModuleNotFoundError\u001b[0m                       Traceback (most recent call last)",
            "\u001b[0;32m<ipython-input-1-d7bc52c8f64f>\u001b[0m in \u001b[0;36m<cell line: 2>\u001b[0;34m()\u001b[0m\n\u001b[1;32m      1\u001b[0m \u001b[0;31m#Imports\u001b[0m\u001b[0;34m\u001b[0m\u001b[0;34m\u001b[0m\u001b[0m\n\u001b[0;32m----> 2\u001b[0;31m \u001b[0;32mfrom\u001b[0m \u001b[0mpytube\u001b[0m \u001b[0;32mimport\u001b[0m \u001b[0mYouTube\u001b[0m\u001b[0;34m\u001b[0m\u001b[0;34m\u001b[0m\u001b[0m\n\u001b[0m\u001b[1;32m      3\u001b[0m \u001b[0;32mimport\u001b[0m \u001b[0mcv2\u001b[0m\u001b[0;34m\u001b[0m\u001b[0;34m\u001b[0m\u001b[0m\n\u001b[1;32m      4\u001b[0m \u001b[0;32mfrom\u001b[0m \u001b[0mPIL\u001b[0m \u001b[0;32mimport\u001b[0m \u001b[0mImage\u001b[0m\u001b[0;34m\u001b[0m\u001b[0;34m\u001b[0m\u001b[0m\n\u001b[1;32m      5\u001b[0m \u001b[0;32mimport\u001b[0m \u001b[0mclip\u001b[0m\u001b[0;34m\u001b[0m\u001b[0;34m\u001b[0m\u001b[0m\n",
            "\u001b[0;31mModuleNotFoundError\u001b[0m: No module named 'pytube'",
            "",
            "\u001b[0;31m---------------------------------------------------------------------------\u001b[0;32m\nNOTE: If your import is failing due to a missing package, you can\nmanually install dependencies using either !pip or !apt.\n\nTo view examples of installing some common dependencies, click the\n\"Open Examples\" button below.\n\u001b[0;31m---------------------------------------------------------------------------\u001b[0m\n"
          ],
          "errorDetails": {
            "actions": [
              {
                "action": "open_url",
                "actionText": "Open Examples",
                "url": "/notebooks/snippets/importing_libraries.ipynb"
              }
            ]
          }
        }
      ],
      "source": [
        "#Imports\n",
        "# from pytube import YouTube\n",
        "import cv2\n",
        "from PIL import Image\n",
        "import clip\n",
        "import torch\n",
        "import math\n",
        "import yt_dlp as youtube_dl\n",
        "\n",
        "#loading Model and constants\n",
        "device = \"cuda\" if torch.cuda.is_available() else \"cpu\"\n",
        "model, preprocess = clip.load(\"ViT-B/32\", device=device)\n",
        "N=60\n",
        "\n",
        "\n",
        "#Video Download Function\n",
        "# def video_download(link,type):\n",
        "#     print(\"Video Downloading\")\n",
        "#     if type=='yt':\n",
        "#         yt = YouTube(link)\n",
        "#         mp4_files = yt.streams.filter(file_extension=\"mp4\")\n",
        "#         mp4_369p_files = mp4_files.get_by_resolution(\"360p\")\n",
        "#         mp4_369p_files.download(filename=link.split(\"=\")[-1]+\".mp4\")\n",
        "#         return link.split(\"=\")[-1]+\".mp4\"\n",
        "#     elif type==\"static\":\n",
        "#         urllib.request.urlretrieve(link, str(link.split(\"token=\")[-1])+'.mp4')\n",
        "#         return str(link.split(\"token=\")[-1])+'.mp4'\n",
        "    \n",
        "# #Video Preprocess\n",
        "# def video_frames_f(link):\n",
        "#     print(\"Video Preprocesing\")\n",
        "#     video_frames = []  #Frames List\n",
        "#     capture = cv2.VideoCapture(link)\n",
        "#     fps = capture.get(cv2.CAP_PROP_FPS)\n",
        "#     current_frame = 0\n",
        "#     while capture.isOpened():\n",
        "#         ret, frame = capture.read()\n",
        "#         if ret == True:\n",
        "#             video_frames.append(Image.fromarray(frame[:, :, ::-1]))\n",
        "#         else:\n",
        "#             break\n",
        "#         current_frame += N #Skip frames\n",
        "#         capture.set(cv2.CAP_PROP_POS_FRAMES, current_frame)\n",
        "#     # Print some statistics\n",
        "#     print(f\"Frames extracted: {len(video_frames)}\")\n",
        "#     return fps,video_frames\n",
        "\n",
        "#Capturing the video frames without downloading\n",
        "def video_preprocess(link,type):\n",
        "    print(\"Extracting Frames\")\n",
        "    video_frames = []  #Frames List\n",
        "    #If-Else to get the vid_capture object from the link and type\n",
        "    if type=='yt':\n",
        "        ydl_opts = {}\n",
        "        ydl = youtube_dl.YoutubeDL(ydl_opts)\n",
        "        info_dict = ydl.extract_info(link, download=False)\n",
        "        formats = info_dict.get('formats',None)\n",
        "        for f in formats:\n",
        "            if f.get('format_note',None) == '144p':\n",
        "                url = f.get('url',None)\n",
        "                vid_capture = cv2.VideoCapture(url)\n",
        "    elif type=='static':\n",
        "        vid_capture = cv2.VideoCapture(link)\n",
        "\n",
        "    #Start Capturing \n",
        "    current_frame=0\n",
        "    fps = vid_capture.get(cv2.CAP_PROP_FPS)\n",
        "    while True:\n",
        "        ret, frame = vid_capture.read()\n",
        "        if not ret:\n",
        "            break\n",
        "        video_frames.append(Image.fromarray(frame[:, :, ::-1]))\n",
        "        current_frame += N #Skip frames\n",
        "        vid_capture.set(cv2.CAP_PROP_POS_FRAMES, current_frame)\n",
        "    vid_capture.release()\n",
        "    \n",
        "    print(f\"Frames extracted: {len(video_frames)}\")\n",
        "    return fps,video_frames\n",
        "\n",
        "#Adding context to each frame\n",
        "def frame_classifier(video_frames):\n",
        "    batch_size = 256\n",
        "    batches = math.ceil(len(video_frames) / batch_size)\n",
        "    video_features = torch.empty([0, 512], dtype=torch.float16).to(device) #Encoded Frames\n",
        "    #Frames Processing\n",
        "    for i in range(batches):\n",
        "        print(f\"Processing batch {i+1}/{batches}\")\n",
        "        batch_frames = video_frames[i*batch_size : (i+1)*batch_size]\n",
        "        batch_preprocessed = torch.stack([preprocess(frame) for frame in batch_frames]).to(device)\n",
        "        with torch.no_grad():\n",
        "            batch_features = model.encode_image(batch_preprocessed)\n",
        "            batch_features /= batch_features.norm(dim=-1, keepdim=True)\n",
        "        video_features = torch.cat((video_features, batch_features))\n",
        "    # Print some stats\n",
        "    print(f\"Features Shape: {video_features.shape}\")\n",
        "    return video_features\n",
        "\n",
        "#Prediction\n",
        "def search_video(search_query,link,type='yt', display_results_count=3):\n",
        "    time_stamps=[]\n",
        "    # video_link=video_download(link,type)\n",
        "    # fps,video_frames=video_frames_f(video_link)\n",
        "    fps,video_frames=video_preprocess(link,type)\n",
        "    video_features=frame_classifier(video_frames)\n",
        "    with torch.no_grad():\n",
        "        text_features = model.encode_text(clip.tokenize(search_query).to(device))\n",
        "        text_features /= text_features.norm(dim=-1, keepdim=True)\n",
        "    similarities = (100.0 * video_features @ text_features.T)\n",
        "    values, best_photo_idx = similarities.topk(display_results_count, dim=0)\n",
        "    # Display the top 3 frames\n",
        "    for frame_id in best_photo_idx:\n",
        "        seconds = round(frame_id.cpu().numpy()[0] * N / fps)\n",
        "        time_stamps.append(seconds)\n",
        "    return time_stamps"
      ]
    },
    {
      "cell_type": "code",
      "source": [
        "#Imports\n",
        "from flask_ngrok import run_with_ngrok\n",
        "from flask import Flask, jsonify, request\n",
        "# from model import search_video\n",
        "from flask_cors import CORS,cross_origin\n",
        "#App\n",
        "app = Flask(\"App\")\n",
        "run_with_ngrok(app)\n",
        "#Test\n",
        "@app.route('/')\n",
        "def test():\n",
        "\treturn 'Not the correct way to connect to API'\n",
        "#CORS\n",
        "CORS(app)\n",
        "@app.route(\"/video\",methods=[\"POST\"])\n",
        "@cross_origin()\n",
        "#Function\n",
        "def image_result():\n",
        "    # print(request.get_json())\n",
        "    #Required parameters\n",
        "    try:\n",
        "        query=request.get_json()['query']\n",
        "        link=request.get_json()['link']\n",
        "        type=request.get_json()['type']\n",
        "    except:\n",
        "        return jsonify({\"Error\":\"Please enter all the required parameters\"})\n",
        "    if len(query)==0 or len(link)==0 or len(type)==0:\n",
        "        return jsonify({\"Error\":\"Please enter all the required parameters\"})\n",
        "    else:\n",
        "        try:\n",
        "            timestamps={\"times_in_sec\":search_video(query,link,type)}\n",
        "            return jsonify(timestamps)\n",
        "        except:\n",
        "            return jsonify({\"Error\":\"Something went wrong\"})\n",
        "\n",
        "if __name__ == '__main__':\n",
        "\tapp.run()"
      ],
      "metadata": {
        "colab": {
          "base_uri": "https://localhost:8080/"
        },
        "id": "Pmup3SOwJXzp",
        "outputId": "e27308ac-e3aa-46de-d62d-e37649a298a3"
      },
      "execution_count": null,
      "outputs": [
        {
          "output_type": "stream",
          "name": "stdout",
          "text": [
            " * Serving Flask app 'App'\n",
            " * Debug mode: off\n"
          ]
        },
        {
          "output_type": "stream",
          "name": "stderr",
          "text": [
            "INFO:werkzeug:\u001b[31m\u001b[1mWARNING: This is a development server. Do not use it in a production deployment. Use a production WSGI server instead.\u001b[0m\n",
            " * Running on http://127.0.0.1:5000\n",
            "INFO:werkzeug:\u001b[33mPress CTRL+C to quit\u001b[0m\n"
          ]
        },
        {
          "output_type": "stream",
          "name": "stdout",
          "text": [
            " * Running on http://67ae-34-138-106-95.ngrok.io\n",
            " * Traffic stats available on http://127.0.0.1:4040\n"
          ]
        },
        {
          "output_type": "stream",
          "name": "stderr",
          "text": [
            "INFO:werkzeug:127.0.0.1 - - [08/Apr/2023 04:46:14] \"GET / HTTP/1.1\" 200 -\n"
          ]
        },
        {
          "output_type": "stream",
          "name": "stdout",
          "text": [
            "Extracting Frames\n",
            "[youtube] Extracting URL: https://youtu.be/LjhCEhWiKXk\n",
            "[youtube] LjhCEhWiKXk: Downloading webpage\n",
            "[youtube] LjhCEhWiKXk: Downloading android player API JSON\n",
            "Frames extracted: 95\n",
            "Processing batch 1/1\n"
          ]
        },
        {
          "output_type": "stream",
          "name": "stderr",
          "text": [
            "INFO:werkzeug:127.0.0.1 - - [08/Apr/2023 04:46:44] \"GET / HTTP/1.1\" 200 -\n"
          ]
        },
        {
          "output_type": "stream",
          "name": "stdout",
          "text": [
            "Features Shape: torch.Size([95, 512])\n"
          ]
        },
        {
          "output_type": "stream",
          "name": "stderr",
          "text": [
            "INFO:werkzeug:127.0.0.1 - - [08/Apr/2023 04:46:52] \"POST /video HTTP/1.1\" 200 -\n"
          ]
        }
      ]
    }
  ]
}